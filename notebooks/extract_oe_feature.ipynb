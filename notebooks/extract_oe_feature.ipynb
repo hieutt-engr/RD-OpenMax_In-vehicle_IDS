{
 "cells": [
  {
   "cell_type": "code",
   "execution_count": 7,
   "id": "f6a8c7d5",
   "metadata": {},
   "outputs": [
    {
     "name": "stdout",
     "output_type": "stream",
     "text": [
      "['/home/hieutt/RD-OpenMax_CAN_IDS/notebooks', '/home/hieutt/miniconda3/envs/torchtf/lib/python39.zip', '/home/hieutt/miniconda3/envs/torchtf/lib/python3.9', '/home/hieutt/miniconda3/envs/torchtf/lib/python3.9/lib-dynload', '', '/home/hieutt/miniconda3/envs/torchtf/lib/python3.9/site-packages', '../']\n"
     ]
    }
   ],
   "source": [
    "%load_ext autoreload\n",
    "%autoreload 2\n",
    "\n",
    "import sys\n",
    "sys.path.append('../')\n",
    "print(sys.path)"
   ]
  },
  {
   "cell_type": "code",
   "execution_count": 3,
   "id": "3f65a6d9",
   "metadata": {},
   "outputs": [],
   "source": [
    "import torch\n",
    "import torch.nn.functional as F\n",
    "from torch.utils.data import DataLoader, TensorDataset\n",
    "from tfrecord.writer import TFRecordWriter  # NOT tensorflow's writer!\n",
    "import os\n",
    "import torch\n",
    "from tfrecord.torch.dataset import TFRecordDataset\n",
    "from tqdm import tqdm"
   ]
  },
  {
   "cell_type": "code",
   "execution_count": 4,
   "id": "f0bf4f58",
   "metadata": {},
   "outputs": [],
   "source": [
    "device = torch.device(\"cuda\" if torch.cuda.is_available() else \"cpu\")"
   ]
  },
  {
   "cell_type": "code",
   "execution_count": 1,
   "id": "137d604f",
   "metadata": {},
   "outputs": [
    {
     "name": "stdout",
     "output_type": "stream",
     "text": [
      "/home/hieutt/miniconda3/envs/torchtf/lib/python3.9/site-packages/tfrecord/__init__.py\n"
     ]
    }
   ],
   "source": [
    "import tfrecord\n",
    "print(tfrecord.__file__)"
   ]
  },
  {
   "cell_type": "code",
   "execution_count": 9,
   "id": "9a1b3e61",
   "metadata": {},
   "outputs": [],
   "source": [
    "# 📄 Step 2: Define TFRecord schema\n",
    "description = {\n",
    "    'id_seq': 'int',\n",
    "    'data_seq': 'int',\n",
    "    'timestamp': 'float',\n",
    "    'delta_ts': 'float',\n",
    "    'label': 'int'\n",
    "}"
   ]
  },
  {
   "cell_type": "code",
   "execution_count": 10,
   "id": "5423062c",
   "metadata": {},
   "outputs": [],
   "source": [
    "# 🔧 Step 3: Define helper functions\n",
    "\n",
    "def parse_sample(data, target_size=64):\n",
    "    id_seq = torch.tensor(data['id_seq'], dtype=torch.float32).view(target_size, target_size)\n",
    "    data_seq = torch.tensor(data['data_seq'], dtype=torch.float32).view(target_size, target_size)\n",
    "    timestamp = torch.tensor(data['timestamp'], dtype=torch.float32).view(target_size, target_size)\n",
    "    delta_ts = torch.tensor(data['delta_ts'], dtype=torch.float32).view(target_size, target_size)\n",
    "    label = int(data['label'][0])\n",
    "    return (id_seq, data_seq, timestamp, delta_ts, label)\n",
    "\n",
    "def serialize_example(x):\n",
    "    id_seq, data_seq, timestamp, delta_ts, label = x\n",
    "    features = tf.train.Features(feature={\n",
    "        'id_seq': tf.train.Feature(float_list=tf.train.FloatList(value=id_seq.view(-1).tolist())),\n",
    "        'data_seq': tf.train.Feature(float_list=tf.train.FloatList(value=data_seq.view(-1).tolist())),\n",
    "        'timestamp': tf.train.Feature(float_list=tf.train.FloatList(value=timestamp.view(-1).tolist())),\n",
    "        'delta_ts': tf.train.Feature(float_list=tf.train.FloatList(value=delta_ts.view(-1).tolist())),\n",
    "        'label': tf.train.Feature(int64_list=tf.train.Int64List(value=[label])),\n",
    "    })\n",
    "    return tf.train.Example(features=features).SerializeToString()\n",
    "\n",
    "\n"
   ]
  },
  {
   "cell_type": "code",
   "execution_count": 11,
   "id": "cdbaa59a",
   "metadata": {},
   "outputs": [],
   "source": [
    "def build_oe_tfrecord(input_dirs, output_file, target_size=64):\n",
    "    index_path = output_file + \".index\"\n",
    "    writer = TFRecordWriter(output_file, index_path=index_path)\n",
    "    total_written = 0\n",
    "\n",
    "    all_tfrec_files = []\n",
    "    for input_dir in input_dirs:\n",
    "        tfrec_files = sorted([\n",
    "            os.path.join(input_dir, f)\n",
    "            for f in os.listdir(input_dir)\n",
    "            if f.endswith(\".tfrec\")\n",
    "        ])\n",
    "        all_tfrec_files.extend(tfrec_files)\n",
    "\n",
    "    print(f\"[INFO] Found {len(all_tfrec_files)} TFRecord files in total.\")\n",
    "\n",
    "    for fname in tqdm(all_tfrec_files, desc=\"Processing TFRecords\"):\n",
    "        dataset = TFRecordDataset(fname, index_path=None, description=description)\n",
    "        for data in dataset:\n",
    "            id_seq, data_seq, timestamp, delta_ts, label = parse_sample(data, target_size)\n",
    "            if label != 0:\n",
    "                serialized = serialize_example((id_seq, data_seq, timestamp, delta_ts, -1))\n",
    "                writer.write(serialized)\n",
    "                total_written += 1\n",
    "\n",
    "    writer.close()\n",
    "    print(f\"\\n✅ DONE: {total_written} OE samples written to: {output_file}\")\n",
    "    print(f\"📄 Index file saved to: {index_path}\")"
   ]
  },
  {
   "cell_type": "code",
   "execution_count": 12,
   "id": "28e5012c",
   "metadata": {},
   "outputs": [
    {
     "ename": "TypeError",
     "evalue": "__init__() got an unexpected keyword argument 'index_path'",
     "output_type": "error",
     "traceback": [
      "\u001b[0;31m---------------------------------------------------------------------------\u001b[0m",
      "\u001b[0;31mTypeError\u001b[0m                                 Traceback (most recent call last)",
      "Cell \u001b[0;32mIn[12], line 8\u001b[0m\n\u001b[1;32m      1\u001b[0m input_dirs \u001b[38;5;241m=\u001b[39m [\n\u001b[1;32m      2\u001b[0m     \u001b[38;5;124m\"\u001b[39m\u001b[38;5;124m../data/set_04/test_03_known_vehicle_unknown_attack/preprocessed/one_type/dos/TFRecord_w64_s32/2/val\u001b[39m\u001b[38;5;124m\"\u001b[39m,\n\u001b[1;32m      3\u001b[0m     \u001b[38;5;124m\"\u001b[39m\u001b[38;5;124m../data/set_04/test_03_known_vehicle_unknown_attack/preprocessed/one_type/force-neutral/TFRecord_w64_s32/2/val\u001b[39m\u001b[38;5;124m\"\u001b[39m,\n\u001b[1;32m      4\u001b[0m ]\n\u001b[1;32m      6\u001b[0m output_file \u001b[38;5;241m=\u001b[39m \u001b[38;5;124m\"\u001b[39m\u001b[38;5;124m../data/set_04/test_03_known_vehicle_unknown_attack/preprocessed/oe_record/oe.tfrecord\u001b[39m\u001b[38;5;124m\"\u001b[39m\n\u001b[0;32m----> 8\u001b[0m \u001b[43mbuild_oe_tfrecord\u001b[49m\u001b[43m(\u001b[49m\u001b[43minput_dirs\u001b[49m\u001b[43m,\u001b[49m\u001b[43m \u001b[49m\u001b[43moutput_file\u001b[49m\u001b[43m)\u001b[49m\n",
      "Cell \u001b[0;32mIn[11], line 3\u001b[0m, in \u001b[0;36mbuild_oe_tfrecord\u001b[0;34m(input_dirs, output_file, target_size)\u001b[0m\n\u001b[1;32m      1\u001b[0m \u001b[38;5;28;01mdef\u001b[39;00m \u001b[38;5;21mbuild_oe_tfrecord\u001b[39m(input_dirs, output_file, target_size\u001b[38;5;241m=\u001b[39m\u001b[38;5;241m64\u001b[39m):\n\u001b[1;32m      2\u001b[0m     index_path \u001b[38;5;241m=\u001b[39m output_file \u001b[38;5;241m+\u001b[39m \u001b[38;5;124m\"\u001b[39m\u001b[38;5;124m.index\u001b[39m\u001b[38;5;124m\"\u001b[39m\n\u001b[0;32m----> 3\u001b[0m     writer \u001b[38;5;241m=\u001b[39m \u001b[43mTFRecordWriter\u001b[49m\u001b[43m(\u001b[49m\u001b[43moutput_file\u001b[49m\u001b[43m,\u001b[49m\u001b[43m \u001b[49m\u001b[43mindex_path\u001b[49m\u001b[38;5;241;43m=\u001b[39;49m\u001b[43mindex_path\u001b[49m\u001b[43m)\u001b[49m\n\u001b[1;32m      4\u001b[0m     total_written \u001b[38;5;241m=\u001b[39m \u001b[38;5;241m0\u001b[39m\n\u001b[1;32m      6\u001b[0m     all_tfrec_files \u001b[38;5;241m=\u001b[39m []\n",
      "\u001b[0;31mTypeError\u001b[0m: __init__() got an unexpected keyword argument 'index_path'"
     ]
    }
   ],
   "source": [
    "input_dirs = [\n",
    "    \"../data/set_04/test_03_known_vehicle_unknown_attack/preprocessed/one_type/dos/TFRecord_w64_s32/2/val\",\n",
    "    \"../data/set_04/test_03_known_vehicle_unknown_attack/preprocessed/one_type/force-neutral/TFRecord_w64_s32/2/val\",\n",
    "]\n",
    "\n",
    "output_file = \"../data/set_04/test_03_known_vehicle_unknown_attack/preprocessed/oe_record/oe.tfrecord\"\n",
    "\n",
    "build_oe_tfrecord(input_dirs, output_file)\n"
   ]
  }
 ],
 "metadata": {
  "kernelspec": {
   "display_name": "torchtf",
   "language": "python",
   "name": "python3"
  },
  "language_info": {
   "codemirror_mode": {
    "name": "ipython",
    "version": 3
   },
   "file_extension": ".py",
   "mimetype": "text/x-python",
   "name": "python",
   "nbconvert_exporter": "python",
   "pygments_lexer": "ipython3",
   "version": "3.9.18"
  }
 },
 "nbformat": 4,
 "nbformat_minor": 5
}
