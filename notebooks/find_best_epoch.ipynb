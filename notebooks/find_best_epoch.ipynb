{
 "cells": [
  {
   "cell_type": "code",
   "execution_count": 1,
   "id": "da4df399",
   "metadata": {},
   "outputs": [
    {
     "name": "stdout",
     "output_type": "stream",
     "text": [
      "['/home/hieutt/UniCon_EnetV2_OpenMax/notebooks', '/home/hieutt/miniconda3/envs/torchtf/lib/python39.zip', '/home/hieutt/miniconda3/envs/torchtf/lib/python3.9', '/home/hieutt/miniconda3/envs/torchtf/lib/python3.9/lib-dynload', '', '/home/hieutt/miniconda3/envs/torchtf/lib/python3.9/site-packages', '../']\n"
     ]
    }
   ],
   "source": [
    "%load_ext autoreload\n",
    "%autoreload 2\n",
    "\n",
    "import sys\n",
    "sys.path.append('../')\n",
    "print(sys.path)"
   ]
  },
  {
   "cell_type": "code",
   "execution_count": 2,
   "id": "fe533bbd",
   "metadata": {},
   "outputs": [],
   "source": [
    "import re"
   ]
  },
  {
   "cell_type": "code",
   "execution_count": 3,
   "id": "4b125cba",
   "metadata": {},
   "outputs": [],
   "source": [
    "def extract_best_epoch_from_log(log_path, mode=\"closed\"):\n",
    "    with open(log_path, 'r') as f:\n",
    "        lines = f.readlines()\n",
    "\n",
    "    epochs = []\n",
    "    accs = []\n",
    "    f1s = []\n",
    "\n",
    "    current_epoch = None\n",
    "    for idx, line in enumerate(lines):\n",
    "        if \"Epoch\" in line and \"Train CE Loss\" in line:\n",
    "            match = re.search(r\"Epoch (\\d+)\", line)\n",
    "            if match:\n",
    "                current_epoch = int(match.group(1))\n",
    "\n",
    "        if mode == \"closed\" and \"Closed-set Results:\" in line:\n",
    "            acc_line = lines[idx + 1]\n",
    "            acc_match = re.search(r\"Acc: ([\\d.]+) \\| F1: ([\\d.]+)\", acc_line)\n",
    "            if acc_match and current_epoch is not None:\n",
    "                acc = float(acc_match.group(1))\n",
    "                f1 = float(acc_match.group(2))\n",
    "                epochs.append(current_epoch)\n",
    "                accs.append(acc)\n",
    "                f1s.append(f1)\n",
    "\n",
    "        elif mode == \"open\" and \"Open-set Results:\" in line:\n",
    "            if idx + 1 < len(lines):\n",
    "                acc_line = lines[idx + 1]\n",
    "                acc_match = re.search(r\"Acc: ([\\d.]+) \\| F1: ([\\d.]+)\", acc_line)\n",
    "                if acc_match and current_epoch is not None:\n",
    "                    acc = float(acc_match.group(1))\n",
    "                    f1 = float(acc_match.group(2))\n",
    "                    epochs.append(current_epoch)\n",
    "                    accs.append(acc)\n",
    "                    f1s.append(f1)\n",
    "\n",
    "    if not epochs:\n",
    "        print(f\"⚠️ Không tìm thấy kết quả {mode}-set trong log.\")\n",
    "        return None\n",
    "\n",
    "    best_idx = f1s.index(max(f1s))\n",
    "    return {\n",
    "        'epoch': epochs[best_idx],\n",
    "        'acc': accs[best_idx],\n",
    "        'f1': f1s[best_idx],\n",
    "        'mode': mode\n",
    "    }\n"
   ]
  },
  {
   "cell_type": "code",
   "execution_count": 4,
   "id": "f7defb75",
   "metadata": {},
   "outputs": [],
   "source": [
    "root_path = '../save/log/'\n",
    "log_path = root_path + 'Resnet34_BCNN_OpenMax__2025-04-22_22-26-12.log' "
   ]
  },
  {
   "cell_type": "code",
   "execution_count": 15,
   "id": "8474c2a4",
   "metadata": {},
   "outputs": [
    {
     "name": "stdout",
     "output_type": "stream",
     "text": [
      "✅ Best closed-set epoch: {'epoch': 56, 'acc': 99.46, 'f1': 0.9947, 'mode': 'closed'}\n",
      "✅ Best open-set epoch: {'epoch': 79, 'acc': 95.37, 'f1': 0.7768, 'mode': 'open'}\n"
     ]
    }
   ],
   "source": [
    "best_closed = extract_best_epoch_from_log(log_path, mode=\"closed\")\n",
    "print(\"✅ Best closed-set epoch:\", best_closed)\n",
    "\n",
    "best_open = extract_best_epoch_from_log(log_path, mode=\"open\")\n",
    "print(\"✅ Best open-set epoch:\", best_open)\n"
   ]
  },
  {
   "cell_type": "code",
   "execution_count": 22,
   "id": "b1653dcf",
   "metadata": {},
   "outputs": [
    {
     "name": "stdout",
     "output_type": "stream",
     "text": [
      "✅ Best closed-set epoch: {'epoch': 88, 'acc': 99.72, 'f1': 0.9972, 'mode': 'closed'}\n",
      "✅ Best open-set epoch: {'epoch': 63, 'acc': 95.17, 'f1': 0.7711, 'mode': 'open'}\n"
     ]
    }
   ],
   "source": [
    "root_path = '../save/log/'\n",
    "log_path = root_path + 'Resnet34_OpenMax__2025-04-21_10-36-26.log' \n",
    "\n",
    "best_closed = extract_best_epoch_from_log(log_path, mode=\"closed\")\n",
    "print(\"✅ Best closed-set epoch:\", best_closed)\n",
    "\n",
    "best_open = extract_best_epoch_from_log(log_path, mode=\"open\")\n",
    "print(\"✅ Best open-set epoch:\", best_open)"
   ]
  },
  {
   "cell_type": "code",
   "execution_count": 10,
   "id": "ebccf03b",
   "metadata": {},
   "outputs": [
    {
     "name": "stdout",
     "output_type": "stream",
     "text": [
      "✅ Best closed-set epoch: {'epoch': 66, 'acc': 99.68, 'f1': 0.9968, 'mode': 'closed'}\n",
      "✅ Best open-set epoch: {'epoch': 49, 'acc': 95.09, 'f1': 0.7687, 'mode': 'open'}\n"
     ]
    }
   ],
   "source": [
    "root_path = '../save/log/'\n",
    "# log_path = root_path + 'Resnet34_OpenMax__2025-04-21_10-36-26.log' \n",
    "log_path = root_path + 'Resnet34_OpenMax__2025-04-20_21-01-04.log' \n",
    "\n",
    "best_closed = extract_best_epoch_from_log(log_path, mode=\"closed\")\n",
    "print(\"✅ Best closed-set epoch:\", best_closed)\n",
    "\n",
    "best_open = extract_best_epoch_from_log(log_path, mode=\"open\")\n",
    "print(\"✅ Best open-set epoch:\", best_open)"
   ]
  },
  {
   "cell_type": "code",
   "execution_count": 4,
   "id": "06776379",
   "metadata": {},
   "outputs": [
    {
     "name": "stdout",
     "output_type": "stream",
     "text": [
      "✅ Best closed-set epoch: {'epoch': 81, 'acc': 99.15, 'f1': 0.9913, 'mode': 'closed'}\n",
      "✅ Best open-set epoch: {'epoch': 23, 'acc': 93.24, 'f1': 0.7044, 'mode': 'open'}\n"
     ]
    }
   ],
   "source": [
    "root_path = '../save/log/'\n",
    "# log_path = root_path + 'Resnet34_OpenMax__2025-04-21_10-36-26.log' \n",
    "log_path = root_path + 'EfficientV2_MPNCOV_OpenMax__2025-05-21_15-42-35.log' \n",
    "\n",
    "best_closed = extract_best_epoch_from_log(log_path, mode=\"closed\")\n",
    "print(\"✅ Best closed-set epoch:\", best_closed)\n",
    "\n",
    "best_open = extract_best_epoch_from_log(log_path, mode=\"open\")\n",
    "print(\"✅ Best open-set epoch:\", best_open)"
   ]
  },
  {
   "cell_type": "code",
   "execution_count": 5,
   "id": "f0c1b0df",
   "metadata": {},
   "outputs": [
    {
     "name": "stdout",
     "output_type": "stream",
     "text": [
      "✅ Best closed-set epoch: {'epoch': 142, 'acc': 99.62, 'f1': 0.9962, 'mode': 'closed'}\n",
      "✅ Best open-set epoch: {'epoch': 83, 'acc': 95.49, 'f1': 0.7862, 'mode': 'open'}\n"
     ]
    }
   ],
   "source": [
    "\n",
    "root_path = '../save/log/'\n",
    "# log_path = root_path + 'Resnet34_OpenMax__2025-04-21_10-36-26.log' \n",
    "log_path = root_path + 'Resnet34_MPNCOV_OpenMax__2025-05-26_09-20-03_(dr-lbm).log' \n",
    "\n",
    "best_closed = extract_best_epoch_from_log(log_path, mode=\"closed\")\n",
    "print(\"✅ Best closed-set epoch:\", best_closed)\n",
    "\n",
    "best_open = extract_best_epoch_from_log(log_path, mode=\"open\")\n",
    "print(\"✅ Best open-set epoch:\", best_open)"
   ]
  },
  {
   "cell_type": "code",
   "execution_count": null,
   "id": "c76089f5",
   "metadata": {},
   "outputs": [
    {
     "name": "stdout",
     "output_type": "stream",
     "text": [
      "✅ Best closed-set epoch: {'epoch': 163, 'acc': 99.65, 'f1': 0.9965, 'mode': 'closed'}\n",
      "✅ Best open-set epoch: {'epoch': 132, 'acc': 95.1, 'f1': 0.7696, 'mode': 'open'}\n"
     ]
    }
   ],
   "source": [
    "root_path = '../save/log/'\n",
    "# log_path = root_path + 'Resnet34_OpenMax__2025-04-21_10-36-26.log' \n",
    "log_path = root_path + 'Resnet34_MPNCOV_OpenMax__2025-05-30_23-50-25_(Mahalanobis).log' \n",
    "\n",
    "best_closed = extract_best_epoch_from_log(log_path, mode=\"closed\")\n",
    "print(\"✅ Best closed-set epoch:\", best_closed)\n",
    "\n",
    "best_open = extract_best_epoch_from_log(log_path, mode=\"open\")\n",
    "print(\"✅ Best open-set epoch:\", best_open)"
   ]
  },
  {
   "cell_type": "code",
   "execution_count": 4,
   "id": "4246c754",
   "metadata": {},
   "outputs": [],
   "source": [
    "import re\n",
    "\n",
    "def extract_best_epoch_from_log(log_path, mode=\"closed\"):\n",
    "    with open(log_path, 'r') as f:\n",
    "        lines = f.readlines()\n",
    "\n",
    "    epochs = []\n",
    "    accs = []\n",
    "    f1s = []\n",
    "\n",
    "    current_epoch = None\n",
    "\n",
    "    for idx, line in enumerate(lines):\n",
    "        # Bắt epoch từ dòng: \"Epoch 64, Train Classifier Loss: ...\"\n",
    "        epoch_match = re.search(r\"Epoch (\\d+), Train Classifier Loss\", line)\n",
    "        if epoch_match:\n",
    "            current_epoch = int(epoch_match.group(1))\n",
    "\n",
    "        # Closed-set parsing\n",
    "        if mode == \"closed\" and \"Closed-set Results:\" in line:\n",
    "            if idx + 1 < len(lines):\n",
    "                acc_line = lines[idx + 1]\n",
    "                acc_match = re.search(r\"Acc: ([\\d.]+) \\| F1: ([\\d.]+)\", acc_line)\n",
    "                if acc_match and current_epoch is not None:\n",
    "                    acc = float(acc_match.group(1))\n",
    "                    f1 = float(acc_match.group(2))\n",
    "                    epochs.append(current_epoch)\n",
    "                    accs.append(acc)\n",
    "                    f1s.append(f1)\n",
    "\n",
    "        # Open-set parsing\n",
    "        elif mode == \"open\" and \"Open-set Results:\" in line:\n",
    "            if idx + 1 < len(lines):\n",
    "                acc_line = lines[idx + 1]\n",
    "                acc_match = re.search(r\"Acc: ([\\d.]+) \\| F1: ([\\d.]+)\", acc_line)\n",
    "                if acc_match and current_epoch is not None:\n",
    "                    acc = float(acc_match.group(1))\n",
    "                    f1 = float(acc_match.group(2))\n",
    "                    epochs.append(current_epoch)\n",
    "                    accs.append(acc)\n",
    "                    f1s.append(f1)\n",
    "\n",
    "    if not epochs:\n",
    "        print(f\"⚠️ Không tìm thấy kết quả {mode}-set trong log.\")\n",
    "        return None\n",
    "\n",
    "    best_idx = f1s.index(max(f1s))\n",
    "    return {\n",
    "        'epoch': epochs[best_idx],\n",
    "        'acc': accs[best_idx],\n",
    "        'f1': f1s[best_idx],\n",
    "        'mode': mode\n",
    "    }\n"
   ]
  },
  {
   "cell_type": "code",
   "execution_count": 6,
   "id": "cc770cfd",
   "metadata": {},
   "outputs": [
    {
     "name": "stdout",
     "output_type": "stream",
     "text": [
      "✅ Best closed-set epoch: {'epoch': 186, 'acc': 99.58, 'f1': 0.9958, 'mode': 'closed'}\n",
      "✅ Best open-set epoch: {'epoch': 51, 'acc': 95.72, 'f1': 0.7973, 'mode': 'open'}\n",
      "✅ Best closed-set epoch: {'epoch': 99, 'acc': 99.22, 'f1': 0.992, 'mode': 'closed'}\n",
      "✅ Best open-set epoch: {'epoch': 91, 'acc': 96.16, 'f1': 0.8236, 'mode': 'open'}\n",
      "✅ Best closed-set epoch: {'epoch': 66, 'acc': 99.56, 'f1': 0.9956, 'mode': 'closed'}\n",
      "✅ Best open-set epoch: {'epoch': 66, 'acc': 95.64, 'f1': 0.7981, 'mode': 'open'}\n"
     ]
    }
   ],
   "source": [
    "root_path = '../save/log/'\n",
    "# ConResnet50_MPNCOV_OpenMax__2025-06-10_09-50-39\n",
    "log_path = root_path + 'ConResnet50_MPNCOV_OpenMax__2025-06-10_09-50-39.log' \n",
    "\n",
    "best_closed = extract_best_epoch_from_log(log_path, mode=\"closed\")\n",
    "print(\"✅ Best closed-set epoch:\", best_closed)\n",
    "\n",
    "best_open = extract_best_epoch_from_log(log_path, mode=\"open\")\n",
    "print(\"✅ Best open-set epoch:\", best_open)\n",
    "\n",
    "# ConResnet50_MPNCOV_OpenMax_NeuralCollapse__2025-06-26_23-49-53.log\n",
    "log_path = root_path + 'ConResnet50_MPNCOV_OpenMax_NeuralCollapse__2025-06-26_23-49-53.log'\n",
    "\n",
    "best_closed = extract_best_epoch_from_log(log_path, mode=\"closed\")\n",
    "print(\"✅ Best closed-set epoch:\", best_closed)\n",
    "\n",
    "best_open = extract_best_epoch_from_log(log_path, mode=\"open\")\n",
    "print(\"✅ Best open-set epoch:\", best_open)\n",
    "\n",
    "# ConResnet50_MPNCOV_OpenMax_NeuralCollapse_v2__2025-06-28_16-46-45.log\n",
    "log_path = root_path + 'ConResnet50_MPNCOV_OpenMax_NeuralCollapse_v2__2025-06-28_16-46-45.log'\n",
    "\n",
    "best_closed = extract_best_epoch_from_log(log_path, mode=\"closed\")\n",
    "print(\"✅ Best closed-set epoch:\", best_closed)\n",
    "\n",
    "best_open = extract_best_epoch_from_log(log_path, mode=\"open\")\n",
    "print(\"✅ Best open-set epoch:\", best_open)"
   ]
  }
 ],
 "metadata": {
  "kernelspec": {
   "display_name": "torchtf",
   "language": "python",
   "name": "python3"
  },
  "language_info": {
   "codemirror_mode": {
    "name": "ipython",
    "version": 3
   },
   "file_extension": ".py",
   "mimetype": "text/x-python",
   "name": "python",
   "nbconvert_exporter": "python",
   "pygments_lexer": "ipython3",
   "version": "3.9.18"
  }
 },
 "nbformat": 4,
 "nbformat_minor": 5
}
